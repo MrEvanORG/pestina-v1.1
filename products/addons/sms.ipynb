{
 "cells": [
  {
   "cell_type": "code",
   "execution_count": null,
   "metadata": {},
   "outputs": [],
   "source": []
  },
  {
   "cell_type": "code",
   "execution_count": 1,
   "metadata": {},
   "outputs": [],
   "source": [
    "import ghasedak_sms\n",
    "sms_api = ghasedak_sms.Ghasedak(api_key='e7998db0c3b83b8930dab5e7f0b5585f7b269527405112e04daa3d5b3dac7be07JDnwtTAE2JR2Kzy')"
   ]
  },
  {
   "cell_type": "code",
   "execution_count": 2,
   "metadata": {},
   "outputs": [
    {
     "name": "stdout",
     "output_type": "stream",
     "text": [
      "ResponseDto(is_success=False, status_code=500, message=401 Client Error: Unauthorized for url: https://gateway.ghasedak.me/Rest/api/v1/WebService/GetAccountInformation)\n"
     ]
    }
   ],
   "source": [
    "response = sms_api.get_account_information()\n",
    "print(response)"
   ]
  },
  {
   "cell_type": "code",
   "execution_count": 7,
   "metadata": {},
   "outputs": [
    {
     "name": "stdout",
     "output_type": "stream",
     "text": [
      "{'isSuccess': True, 'statusCode': 200, 'message': 'با موفقیت انجام شد', 'data': {'receptor': '09302366684', 'lineNumber': '30005088', 'cost': 3000, 'messageId': '216001855', 'clientReferenceId': None, 'message': 'hello, world!', 'sendDate': '2025-03-20T17:55:41.2701657+03:30'}}\n",
      "{'isSuccess': True, 'statusCode': 200, 'message': 'با موفقیت انجام شد', 'data': {'receptor': '09302366684', 'lineNumber': '30005088', 'cost': 3000, 'messageId': '216001855', 'clientReferenceId': None, 'message': 'hello, world!', 'sendDate': '2025-03-20T17:55:41.2701657+03:30'}}\n"
     ]
    }
   ],
   "source": [
    "response = sms_api.send_single_sms(\n",
    "    ghasedak_sms.SendSingleSmsInput(\n",
    "        message='hello, world!',\n",
    "        receptor='09302366684',\n",
    "        line_number='30005088',\n",
    "        send_date='',\n",
    "        client_reference_id=''\n",
    "    )\n",
    ")\n",
    "\n",
    "print(response)\n",
    "\n",
    "print(response)"
   ]
  },
  {
   "cell_type": "code",
   "execution_count": 19,
   "metadata": {},
   "outputs": [
    {
     "name": "stdout",
     "output_type": "stream",
     "text": [
      "احسان عزیز به پستینا خوش آمدید \n",
      " کد ورود شما 233 می باشد\n",
      " لغو ۱۱\n"
     ]
    }
   ],
   "source": [
    "def send_otp(name,number,otp):\n",
    "    text = f'{name} عزیز به پستینا خوش آمدید '+f'\\n کد ورود شما {otp} می باشد'+'\\n لغو ۱۱'\n",
    "    print(text)\n",
    "send_otp('احسان',233,233)"
   ]
  }
 ],
 "metadata": {
  "kernelspec": {
   "display_name": "Python 3",
   "language": "python",
   "name": "python3"
  },
  "language_info": {
   "codemirror_mode": {
    "name": "ipython",
    "version": 3
   },
   "file_extension": ".py",
   "mimetype": "text/x-python",
   "name": "python",
   "nbconvert_exporter": "python",
   "pygments_lexer": "ipython3",
   "version": "3.12.3"
  }
 },
 "nbformat": 4,
 "nbformat_minor": 2
}
